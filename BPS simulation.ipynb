{
  "cells": [
    {
      "cell_type": "code",
      "execution_count": 16,
      "metadata": {
        "id": "1T1X_amdQgNH"
      },
      "outputs": [],
      "source": [
        "import numpy as np\n",
        "import matplotlib.pyplot as plt\n",
        "import random"
      ]
    },
    {
      "cell_type": "markdown",
      "source": [
        "a)"
      ],
      "metadata": {
        "id": "M_058oD_NyTN"
      }
    },
    {
      "cell_type": "code",
      "execution_count": 8,
      "metadata": {
        "id": "ZqCgwekNSDmH",
        "colab": {
          "base_uri": "https://localhost:8080/",
          "height": 576
        },
        "outputId": "70d9753f-1b98-4bf3-fca1-c2b6bc618871"
      },
      "outputs": [
        {
          "output_type": "stream",
          "name": "stderr",
          "text": [
            "/usr/local/lib/python3.7/dist-packages/ipykernel_launcher.py:25: RuntimeWarning: divide by zero encountered in log\n"
          ]
        },
        {
          "output_type": "execute_result",
          "data": {
            "text/plain": [
              "Text(0, 0.5, 'ln(MSD)')"
            ]
          },
          "metadata": {},
          "execution_count": 8
        },
        {
          "output_type": "display_data",
          "data": {
            "text/plain": [
              "<Figure size 432x288 with 1 Axes>"
            ],
            "image/png": "[encoded data removed]"
          },
          "metadata": {
            "needs_background": "light"
          }
        },
        {
          "output_type": "display_data",
          "data": {
            "text/plain": [
              "<Figure size 432x288 with 1 Axes>"
            ],
            "image/png": "[encoded data removed]"
          },
          "metadata": {
            "needs_background": "light"
          }
        }
      ],
      "source": [
        "N = 100\n",
        "n_loop = 100\n",
        "x = np.zeros((N, 1))\n",
        "MSD = np.zeros((n_loop, N))\n",
        "t = [i for i in range(N)]\n",
        "\n",
        "for i in range(n_loop):\n",
        "    for j in range(1,N):\n",
        "      dx = np.random.choice([-1, 1])\n",
        "      x[j] = x[j-1] + dx\n",
        "    \n",
        "    for k in range(N):\n",
        "      sum = 0 \n",
        "      for l in range(k, N):\n",
        "        sum = sum + np.square(x[l] - x[l-k])\n",
        "      MSD[i, k]  = sum/(N - k)\n",
        "MSD_avg =  np.sum(MSD, axis = 0)/n_loop \n",
        "plt.figure()\n",
        "plt.plot(t,MSD_avg)\n",
        "plt.xlabel(\"Time step\")\n",
        "plt.ylabel(\"MSD\")\n",
        "plt.figure()\n",
        "plt.plot(np.log(t),np.log(MSD_avg) )\n",
        "slope, intercept = np.polyfit(np.log(t[2:N]),np.log(MSD_avg[2:N]), 1)\n",
        "plt.title(\"Slope- \" + str(slope))\n",
        "plt.legend([\"log t vs log MSD\"])\n",
        "plt.xlabel(\"ln(Time step)\")\n",
        "plt.ylabel(\"ln(MSD)\")\n"
      ]
    },
    {
      "cell_type": "markdown",
      "source": [
        "b)"
      ],
      "metadata": {
        "id": "F8_qB13xN1j5"
      }
    },
    {
      "cell_type": "code",
      "source": [
        "N = 100       #No of timesteps\n",
        "N2 = 100      #No of ensembles\n",
        "x = np.zeros((N, 1))\n",
        "MSD_1 = np.zeros((N2, N))\n",
        "dx = np.zeros((N, 1))\n",
        "t = [i for i in range(N)]\n",
        "\n",
        "w = 0.6       #Probability\n",
        "\n",
        "for i in range(N2):\n",
        "    dx[1] = int(np.random.choice([-1, 1]))\n",
        "    x[1] = dx[1]\n",
        "    for j in range(2, N):\n",
        "      c = int(dx[j-1])\n",
        "      dx[j] = np.random.choice([c, -c], p=[w, 1-w])\n",
        "      x[j] = x[j-1]+dx[j]\n",
        "\n",
        "    \n",
        "    for k in range(N):\n",
        "      sum = 0 \n",
        "      for l in range(k, N):\n",
        "        sum = sum + np.square(x[l] - x[l-k])\n",
        "      MSD[i, k]  = sum/(N - k)\n",
        "MSD_avg =  np.sum(MSD, axis = 0)/N2\n",
        "plt.figure()\n",
        "plt.plot(t,MSD_avg)\n",
        "plt.xlabel(\"Time step\")\n",
        "plt.ylabel(\"MSD\")\n",
        "plt.figure()\n",
        "plt.plot(np.log(t),np.log(MSD_avg) )\n",
        "slope, intercept = np.polyfit(np.log(t[2:N]),np.log(MSD_avg[2:N]), 1)\n",
        "plt.title(\"Slope- \" + str(slope))\n",
        "plt.legend([\"log t vs log MSD\"])\n",
        "plt.xlabel(\"ln(Time step)\")\n",
        "plt.ylabel(\"ln(MSD)\")"
      ],
      "metadata": {
        "id": "gcee1Mx7MDOE"
      },
      "execution_count": null,
      "outputs": []
    },
    {
      "cell_type": "markdown",
      "source": [
        "c)"
      ],
      "metadata": {
        "id": "bvoWIX6sN3B0"
      }
    },
    {
      "cell_type": "code",
      "source": [
        "N = 100       #No of timesteps\n",
        "N2 = 100      #No of ensembles\n",
        "x = np.zeros((N, 1))\n",
        "MSD_1 = np.zeros((N2, N))\n",
        "dx = np.zeros((N, 1))\n",
        "t = [i for i in range(N)]\n",
        "\n",
        "w = 0.6       #Probability\n",
        "\n",
        "for i in range(N2):\n",
        "    dx[1] = int(np.random.choice([-1, 1]))\n",
        "    x[1] = dx[1]\n",
        "    for j in range(2, N):\n",
        "      if j < 5:\n",
        "        choice = dx[0:j]\n",
        "      else:\n",
        "        choice = dx[j-5:j]\n",
        "      sigma_t = int(random.choice(choice))\n",
        "      choice_2 = [sigma_t, -sigma_t]\n",
        "      dx[j] = np.random.choice(choice_2, p=[w, 1-w])\n",
        "      x[j] = x[j-1]+dx[j]\n",
        "\n",
        "    \n",
        "    for k in range(N):\n",
        "      sum = 0 \n",
        "      for l in range(k, N):\n",
        "        sum = sum + np.square(x[l] - x[l-k])\n",
        "      MSD[i, k]  = sum/(N - k)\n",
        "MSD_avg =  np.sum(MSD, axis = 0)/N2\n",
        "plt.figure()\n",
        "plt.plot(t,MSD_avg)\n",
        "plt.xlabel(\"Time step\")\n",
        "plt.ylabel(\"MSD\")\n",
        "plt.figure()\n",
        "plt.plot(np.log(t[1:N]),np.log(MSD_avg[1:N]) )\n",
        "slope, intercept = np.polyfit(np.log(t[2:N]),np.log(MSD_avg[2:N]), 1)\n",
        "plt.title(\"Slope- \" + str(slope))\n",
        "plt.legend([\"log t vs log MSD\"])\n",
        "plt.xlabel(\"ln(Time step)\")\n",
        "plt.ylabel(\"ln(MSD)\")\n"
      ],
      "metadata": {
        "colab": {
          "base_uri": "https://localhost:8080/",
          "height": 592
        },
        "id": "8JFJOO3xKM_1",
        "outputId": "14badefd-42ef-4cde-d057-3e26932ff556"
      },
      "execution_count": 20,
      "outputs": [
        {
          "output_type": "stream",
          "name": "stdout",
          "text": [
            "1.1218087069875686\n"
          ]
        },
        {
          "output_type": "execute_result",
          "data": {
            "text/plain": [
              "Text(0, 0.5, 'ln(MSD)')"
            ]
          },
          "metadata": {},
          "execution_count": 20
        },
        {
          "output_type": "display_data",
          "data": {
            "text/plain": [
              "<Figure size 432x288 with 1 Axes>"
            ],
            "image/png": "[encoded data removed]"
          },
          "metadata": {
            "needs_background": "light"
          }
        },
        {
          "output_type": "display_data",
          "data": {
            "text/plain": [
              "<Figure size 432x288 with 1 Axes>"
            ],
            "image/png": "[encoded data removed]"
          },
          "metadata": {
            "needs_background": "light"
          }
        }
      ]
    },
    {
      "cell_type": "markdown",
      "source": [
        "d)"
      ],
      "metadata": {
        "id": "LgiwTlDtN5Gj"
      }
    },
    {
      "cell_type": "code",
      "source": [
        "N = 100       #No of timesteps\n",
        "N2 = 100      #No of ensembles\n",
        "x = np.zeros((N, 1))\n",
        "MSD_1 = np.zeros((N2, N))\n",
        "dx = np.zeros((N, 1))\n",
        "t = [i for i in range(N)]\n",
        "\n",
        "w = 0.6       #Probability\n",
        "\n",
        "for i in range(N2):\n",
        "    dx[1] = int(np.random.choice([-1, 1]))\n",
        "    x[1] = dx[1]\n",
        "    for j in range(2, N):\n",
        "      choice = dx[0:j]\n",
        "      sigma_t = int(random.choice(choice))\n",
        "      choice_2 = [sigma_t, -sigma_t]\n",
        "      dx[j] = np.random.choice(choice_2, p=[w, 1-w])\n",
        "      x[j] = x[j-1]+dx[j]\n",
        "\n",
        "    \n",
        "    for k in range(N):\n",
        "      sum = 0 \n",
        "      for l in range(k, N):\n",
        "        sum = sum + np.square(x[l] - x[l-k])\n",
        "      MSD[i, k]  = sum/(N - k)\n",
        "MSD_avg =  np.sum(MSD, axis = 0)/N2\n",
        "plt.figure()\n",
        "plt.plot(t,MSD_avg)\n",
        "plt.xlabel(\"Time step\")\n",
        "plt.ylabel(\"MSD\")\n",
        "plt.figure()\n",
        "plt.plot(np.log(t),np.log(MSD_avg) )\n",
        "slope, intercept = np.polyfit(np.log(t[2:N]),np.log(MSD_avg[2:N]), 1)\n",
        "plt.title(\"Slope- \" + str(slope))\n",
        "plt.legend([\"log t vs log MSD\"])\n",
        "plt.xlabel(\"ln(Time step)\")\n",
        "plt.ylabel(\"ln(MSD)\")"
      ],
      "metadata": {
        "id": "2KMDmsKoNbjt"
      },
      "execution_count": null,
      "outputs": []
    },
    {
      "cell_type": "code",
      "source": [],
      "metadata": {
        "id": "3ZYELkUNKMF2"
      },
      "execution_count": null,
      "outputs": []
    }
  ],
  "metadata": {
    "colab": {
      "provenance": [],
      "collapsed_sections": []
    },
    "kernelspec": {
      "display_name": "Python 3",
      "name": "python3"
    },
    "language_info": {
      "name": "python"
    }
  },
  "nbformat": 4,
  "nbformat_minor": 0
}